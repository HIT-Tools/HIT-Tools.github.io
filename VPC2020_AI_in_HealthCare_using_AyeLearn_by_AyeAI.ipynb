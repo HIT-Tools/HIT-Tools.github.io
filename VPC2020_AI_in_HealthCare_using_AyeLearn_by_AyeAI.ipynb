{
  "nbformat": 4,
  "nbformat_minor": 0,
  "metadata": {
    "colab": {
      "provenance": [],
      "collapsed_sections": [
        "UxbUM7jxskOx"
      ],
      "include_colab_link": true
    },
    "kernelspec": {
      "name": "python3",
      "display_name": "Python 3"
    }
  },
  "cells": [
    {
      "cell_type": "markdown",
      "metadata": {
        "id": "view-in-github",
        "colab_type": "text"
      },
      "source": [
        "<a href=\"https://colab.research.google.com/github/HIT-Tools/HIT-Tools.github.io/blob/master/VPC2020_AI_in_HealthCare_using_AyeLearn_by_AyeAI.ipynb\" target=\"_parent\"><img src=\"https://colab.research.google.com/assets/colab-badge.svg\" alt=\"Open In Colab\"/></a>"
      ]
    },
    {
      "cell_type": "markdown",
      "metadata": {
        "id": "X2hf077366V9"
      },
      "source": [
        "<img src=\"https://i1.wp.com/ayeai.xyz/site/wp-content/uploads/2019/09/cropped-AyeAI-logo-cropped-tm-150x150-v2.0.svg-1.png?fit=141%2C77&ssl=1\" height=\"50\" width=\"100\">®<br>\n",
        "# AI in HealthCare - An Introduction\n",
        "### VPC 2020\n",
        "#### using\n",
        "### AyeLearn by AyeAI™\n",
        "##### Copyright (C) 2020 Abhishek Choudhary, Dr Srija Katta <br>\n",
        "##### AyeAI Singularity Public License. No warranty. No Liability"
      ]
    },
    {
      "cell_type": "markdown",
      "metadata": {
        "id": "YfLsyfl1XMJB"
      },
      "source": [
        "# Please register on the course embedded in the next cell using your Gmail"
      ]
    },
    {
      "cell_type": "markdown",
      "metadata": {
        "id": "Rk-cBrBAT7ac"
      },
      "source": [
        "# Course content on AyeAI.xyz site"
      ]
    },
    {
      "cell_type": "markdown",
      "metadata": {
        "id": "UxbUM7jxskOx"
      },
      "source": [
        "# Speech recognition"
      ]
    },
    {
      "cell_type": "code",
      "metadata": {
        "id": "szxU_k1atf_n",
        "colab": {
          "base_uri": "https://localhost:8080/",
          "height": 1000
        },
        "outputId": "3c5d0120-82e1-4242-d539-69a31b39446a"
      },
      "source": [
        "!pip install deepspeech==0.6.0\n",
        "!curl -LO https://github.com/mozilla/DeepSpeech/releases/download/v0.6.0/deepspeech-0.6.0-models.tar.gz\n",
        "!tar -xvzf deepspeech-0.6.0-models.tar.gz\n",
        "!ls -l ./deepspeech-0.6.0-models/\n",
        "!curl -LO https://github.com/mozilla/DeepSpeech/releases/download/v0.6.0/audio-0.6.0.tar.gz\n",
        "!tar -xvzf audio-0.6.0.tar.gz\n",
        "!ls -l ./audio/\n",
        "!deepspeech --model deepspeech-0.6.0-models/output_graph.pb --lm deepspeech-0.6.0-models/lm.binary --trie ./deepspeech-0.6.0-models/trie --audio ./audio/2830-3980-0043.wav\n",
        "\n",
        "!brew install swig\n",
        "!swig -version\n",
        "!apt-get install -y swig libpulse-dev\n",
        "!swig -version\n",
        "!pip3 install pocketsphinx\n",
        "!pip3 list | grep pocketsphinx\n",
        "\n",
        "import pocketsphinx\n",
        "import os\n",
        "\n",
        "from typing import Tuple\n",
        "import wave\n",
        "\n",
        "def read_wav_file(filename) -> Tuple[bytes, int]:\n",
        "    with wave.open(filename, 'rb') as w:\n",
        "        rate = w.getframerate()\n",
        "        frames = w.getnframes()\n",
        "        buffer = w.readframes(frames)\n",
        "\n",
        "    return buffer, rate\n",
        "\n",
        "def simulate_stream(buffer: bytes, batch_size: int = 4096):\n",
        "    buffer_len = len(buffer)\n",
        "    offset = 0\n",
        "    while offset < buffer_len:\n",
        "        end_offset = offset + batch_size\n",
        "        buf = buffer[offset:end_offset]\n",
        "        yield buf\n",
        "        offset = end_offset\n",
        "\n",
        "TESTCASES = [\n",
        "  {\n",
        "    'filename': 'audio/2830-3980-0043.wav',\n",
        "    'text': 'experience proves this',\n",
        "    'encoding': 'LINEAR16',\n",
        "    'lang': 'en-US'\n",
        "  },\n",
        "  {\n",
        "    'filename': 'audio/4507-16021-0012.wav',\n",
        "    'text': 'why should one halt on the way',\n",
        "    'encoding': 'LINEAR16',\n",
        "    'lang': 'en-US'\n",
        "  },\n",
        "  {\n",
        "    'filename': 'audio/8455-210777-0068.wav',\n",
        "    'text': 'your power is sufficient i said',\n",
        "    'encoding': 'LINEAR16',\n",
        "    'lang': 'en-US'\n",
        "  }\n",
        "]\n",
        "MODELDIR = os.path.join(os.path.dirname(pocketsphinx.__file__), 'model')\n",
        "\n",
        "config = pocketsphinx.Decoder.default_config()\n",
        "config.set_string('-hmm', os.path.join(MODELDIR, 'en-us'))\n",
        "config.set_string('-lm', os.path.join(MODELDIR, 'en-us.lm.bin'))\n",
        "config.set_string('-dict', os.path.join(MODELDIR, 'cmudict-en-us.dict'))\n",
        "\n",
        "decoder = pocketsphinx.Decoder(config)\n",
        "\n",
        "def sphinx_streaming_stt(filename: str, lang: str, encoding: str) -> str:\n",
        "    buffer, rate = read_wav_file(filename)\n",
        "    audio_generator = simulate_stream(buffer)\n",
        "\n",
        "    decoder.start_utt()\n",
        "    for chunk in audio_generator:\n",
        "        decoder.process_raw(chunk, False, False)\n",
        "    decoder.end_utt()\n",
        "\n",
        "    hypothesis = decoder.hyp()\n",
        "    return hypothesis.hypstr\n",
        "\n",
        "# Run tests\n",
        "for t in TESTCASES:\n",
        "    print('\\naudio file=\"{0}\"    expected text=\"{1}\"'.format(t['filename'], t['text']))\n",
        "    print('sphinx-streaming-stt: \"{}\"'.format(\n",
        "        sphinx_streaming_stt(t['filename'], t['lang'], t['encoding'])\n",
        "    ))"
      ],
      "execution_count": null,
      "outputs": [
        {
          "output_type": "stream",
          "text": [
            "Requirement already satisfied: deepspeech==0.6.0 in /usr/local/lib/python3.6/dist-packages (0.6.0)\n",
            "Requirement already satisfied: numpy>=1.7.0 in /usr/local/lib/python3.6/dist-packages (from deepspeech==0.6.0) (1.18.5)\n",
            "  % Total    % Received % Xferd  Average Speed   Time    Time     Time  Current\n",
            "                                 Dload  Upload   Total   Spent    Left  Speed\n",
            "100   641  100   641    0     0   2848      0 --:--:-- --:--:-- --:--:--  2848\n",
            "100 1172M  100 1172M    0     0  62.5M      0  0:00:18  0:00:18 --:--:-- 74.4M\n",
            "deepspeech-0.6.0-models/\n",
            "deepspeech-0.6.0-models/lm.binary\n",
            "deepspeech-0.6.0-models/output_graph.pbmm\n",
            "deepspeech-0.6.0-models/output_graph.pb\n",
            "deepspeech-0.6.0-models/trie\n",
            "deepspeech-0.6.0-models/output_graph.tflite\n",
            "total 1350664\n",
            "-rw-r--r-- 1 501 staff 945699324 Dec  3  2019 lm.binary\n",
            "-rw-r--r-- 1 501 staff 188914896 Dec  3  2019 output_graph.pb\n",
            "-rw-r--r-- 1 501 staff 188915850 Dec  3  2019 output_graph.pbmm\n",
            "-rw-r--r-- 1 501 staff  47335752 Dec  3  2019 output_graph.tflite\n",
            "-rw-r--r-- 1 501 staff  12200736 Dec  3  2019 trie\n",
            "  % Total    % Received % Xferd  Average Speed   Time    Time     Time  Current\n",
            "                                 Dload  Upload   Total   Spent    Left  Speed\n",
            "100   629  100   629    0     0   2912      0 --:--:-- --:--:-- --:--:--  2898\n",
            "100  192k  100  192k    0     0   403k      0 --:--:-- --:--:-- --:--:--  403k\n",
            "audio/\n",
            "audio/2830-3980-0043.wav\n",
            "audio/Attribution.txt\n",
            "audio/4507-16021-0012.wav\n",
            "audio/8455-210777-0068.wav\n",
            "audio/License.txt\n",
            "total 260\n",
            "-rw-r--r-- 1 501 staff 63244 Nov 18  2017 2830-3980-0043.wav\n",
            "-rw-r--r-- 1 501 staff 87564 Nov 18  2017 4507-16021-0012.wav\n",
            "-rw-r--r-- 1 501 staff 82924 Nov 18  2017 8455-210777-0068.wav\n",
            "-rw-r--r-- 1 501 staff   340 May 14  2018 Attribution.txt\n",
            "-rw-r--r-- 1 501 staff 18652 May 12  2018 License.txt\n",
            "Loading model from file deepspeech-0.6.0-models/output_graph.pb\n",
            "TensorFlow: v1.14.0-21-ge77504a\n",
            "DeepSpeech: v0.6.0-0-g6d43e21\n",
            "Warning: reading entire model file into memory. Transform model file into an mmapped graph to reduce heap usage.\n",
            "2020-08-01 11:19:31.595041: I tensorflow/core/platform/cpu_feature_guard.cc:142] Your CPU supports instructions that this TensorFlow binary was not compiled to use: AVX2 FMA\n",
            "Loaded model in 0.321s.\n",
            "Loading language model from files deepspeech-0.6.0-models/lm.binary ./deepspeech-0.6.0-models/trie\n",
            "Loaded language model in 0.000258s.\n",
            "Running inference.\n",
            "2020-08-01 11:19:31.933811: W tensorflow/core/framework/allocator.cc:107] Allocation of 16777216 exceeds 10% of system memory.\n",
            "2020-08-01 11:19:31.956021: W tensorflow/core/framework/allocator.cc:107] Allocation of 16777216 exceeds 10% of system memory.\n",
            "2020-08-01 11:19:31.961389: W tensorflow/core/framework/allocator.cc:107] Allocation of 134217728 exceeds 10% of system memory.\n",
            "2020-08-01 11:19:32.177856: W tensorflow/core/framework/allocator.cc:107] Allocation of 16777216 exceeds 10% of system memory.\n",
            "2020-08-01 11:19:32.205084: W tensorflow/core/framework/allocator.cc:107] Allocation of 16777216 exceeds 10% of system memory.\n",
            "experience proof less\n",
            "Inference took 2.934s for 1.975s audio file.\n",
            "/bin/bash: brew: command not found\n",
            "\n",
            "SWIG Version 3.0.12\n",
            "\n",
            "Compiled with g++ [x86_64-pc-linux-gnu]\n",
            "\n",
            "Configured options: +pcre\n",
            "\n",
            "Please see http://www.swig.org for reporting bugs and further information\n",
            "Reading package lists... Done\n",
            "Building dependency tree       \n",
            "Reading state information... Done\n",
            "swig is already the newest version (3.0.12-1).\n",
            "libpulse-dev is already the newest version (1:11.1-1ubuntu7.9).\n",
            "The following package was automatically installed and is no longer required:\n",
            "  libnvidia-common-440\n",
            "Use 'apt autoremove' to remove it.\n",
            "0 upgraded, 0 newly installed, 0 to remove and 37 not upgraded.\n",
            "\n",
            "SWIG Version 3.0.12\n",
            "\n",
            "Compiled with g++ [x86_64-pc-linux-gnu]\n",
            "\n",
            "Configured options: +pcre\n",
            "\n",
            "Please see http://www.swig.org for reporting bugs and further information\n",
            "Requirement already satisfied: pocketsphinx in /usr/local/lib/python3.6/dist-packages (0.1.15)\n",
            "pocketsphinx             0.1.15         \n",
            "\n",
            "audio file=\"audio/2830-3980-0043.wav\"    expected text=\"experience proves this\"\n",
            "sphinx-streaming-stt: \"experience proves this\"\n",
            "\n",
            "audio file=\"audio/4507-16021-0012.wav\"    expected text=\"why should one halt on the way\"\n",
            "sphinx-streaming-stt: \"why should one hold on the way\"\n",
            "\n",
            "audio file=\"audio/8455-210777-0068.wav\"    expected text=\"your power is sufficient i said\"\n",
            "sphinx-streaming-stt: \"your paris sufficient i said\"\n"
          ],
          "name": "stdout"
        }
      ]
    },
    {
      "cell_type": "code",
      "metadata": {
        "id": "yHGKFP_EUSYs",
        "cellView": "form",
        "colab": {
          "base_uri": "https://localhost:8080/",
          "height": 821
        },
        "outputId": "489e77bf-e033-4800-e835-94e556c0de00"
      },
      "source": [
        "#@markdown ###### **👈🏾 Click on ( ▶ ) the play button to display content 👈🏾**<br>\n",
        "#@markdown ##### Please register on the course embedded in the next cell using your Gmail\n",
        "from IPython.display import IFrame\n",
        "\n",
        "IFrame('https://ayeai.xyz/site/courses/artificial-intelligence-in-healthcare-vpc_2020/','1000','800')"
      ],
      "execution_count": null,
      "outputs": [
        {
          "output_type": "execute_result",
          "data": {
            "text/html": [
              "\n",
              "        <iframe\n",
              "            width=\"1000\"\n",
              "            height=\"800\"\n",
              "            src=\"https://ayeai.xyz/site/courses/artificial-intelligence-in-healthcare-vpc_2020/\"\n",
              "            frameborder=\"0\"\n",
              "            allowfullscreen\n",
              "        ></iframe>\n",
              "        "
            ],
            "text/plain": [
              "<IPython.lib.display.IFrame at 0x7f50600de6a0>"
            ]
          },
          "metadata": {
            "tags": []
          },
          "execution_count": 6
        }
      ]
    },
    {
      "cell_type": "code",
      "metadata": {
        "id": "klgueUJBjse1",
        "colab": {
          "base_uri": "https://localhost:8080/",
          "height": 335
        },
        "outputId": "1ee3030c-09b4-485a-9699-102515a8395d"
      },
      "source": [
        "# Reference Video\n",
        "%%html\n",
        "<iframe width=\"560\" height=\"315\" src=\"https://www.youtube.com/embed/I3bgoG108pw\" frameborder=\"0\" allow=\"accelerometer; autoplay; encrypted-media; gyroscope; picture-in-picture\" allowfullscreen></iframe>"
      ],
      "execution_count": null,
      "outputs": [
        {
          "output_type": "display_data",
          "data": {
            "text/html": [
              "<iframe width=\"560\" height=\"315\" src=\"https://www.youtube.com/embed/I3bgoG108pw\" frameborder=\"0\" allow=\"accelerometer; autoplay; encrypted-media; gyroscope; picture-in-picture\" allowfullscreen></iframe>"
            ],
            "text/plain": [
              "<IPython.core.display.HTML object>"
            ]
          },
          "metadata": {
            "tags": []
          }
        }
      ]
    },
    {
      "cell_type": "markdown",
      "metadata": {
        "id": "AmLzOo0DXt87"
      },
      "source": [
        "# Epidemology"
      ]
    },
    {
      "cell_type": "markdown",
      "metadata": {
        "id": "xM87Zq5sXxWd"
      },
      "source": [
        "## OpenEpi\n",
        "\n",
        "1) Openepi - related links\n",
        "\n",
        "https://gist.github.com/anonymous/a863b1cb05782442b0ec29fcc4dc8036\n",
        "\n",
        "Installation Instruction : http://www.openepi.com/Downloads/Downloads.htm\n",
        "\n",
        "Archive Links : https://web.archive.org/web/20180611010551/https://github.com/JogoShugh/OpenEpi.com\n",
        "\n",
        "https://web.archive.org/web/20190323035059/https://en.wikipedia.org/wiki/OpenEpi\n",
        "\n",
        "2) Others References : Public Health and Biosurvilence\n",
        "\n",
        "https://en.wikipedia.org/wiki/List_of_open-source_health_software#Public_health_and_biosurveillance\n",
        "\n"
      ]
    },
    {
      "cell_type": "code",
      "metadata": {
        "id": "0nq_YyWwX9SI",
        "cellView": "form",
        "colab": {
          "base_uri": "https://localhost:8080/",
          "height": 621
        },
        "outputId": "020ed0bc-5a17-4451-c178-fbf912726884"
      },
      "source": [
        "#@title SampleSize/SSCC.htm\n",
        "from IPython.display import IFrame\n",
        "IFrame('https://hit-tools.github.io/openepi-simplified/SampleSize/SSCC.htm', '100%', '600')"
      ],
      "execution_count": null,
      "outputs": [
        {
          "output_type": "execute_result",
          "data": {
            "text/html": [
              "\n",
              "        <iframe\n",
              "            width=\"100%\"\n",
              "            height=\"600\"\n",
              "            src=\"https://hit-tools.github.io/openepi-simplified/SampleSize/SSCC.htm\"\n",
              "            frameborder=\"0\"\n",
              "            allowfullscreen\n",
              "        ></iframe>\n",
              "        "
            ],
            "text/plain": [
              "<IPython.lib.display.IFrame at 0x7f768f5c4780>"
            ]
          },
          "metadata": {
            "tags": []
          },
          "execution_count": 3
        }
      ]
    },
    {
      "cell_type": "code",
      "metadata": {
        "id": "HA05jyDJX_JL",
        "colab": {
          "base_uri": "https://localhost:8080/",
          "height": 621
        },
        "outputId": "935d8565-b4d9-496d-df18-cdabbbe6d1c3"
      },
      "source": [
        "#@title DiagnosticTest/DiagnosticTest.htm\n",
        "from IPython.display import IFrame\n",
        "IFrame('https://hit-tools.github.io/openepi-simplified/DiagnosticTest/DiagnosticTest.htm', '100%', '600')\n"
      ],
      "execution_count": null,
      "outputs": [
        {
          "output_type": "execute_result",
          "data": {
            "text/html": [
              "\n",
              "        <iframe\n",
              "            width=\"100%\"\n",
              "            height=\"600\"\n",
              "            src=\"https://hit-tools.github.io/openepi-simplified/DiagnosticTest/DiagnosticTest.htm\"\n",
              "            frameborder=\"0\"\n",
              "            allowfullscreen\n",
              "        ></iframe>\n",
              "        "
            ],
            "text/plain": [
              "<IPython.lib.display.IFrame at 0x7f3532c9ab00>"
            ]
          },
          "metadata": {
            "tags": []
          },
          "execution_count": 4
        }
      ]
    },
    {
      "cell_type": "markdown",
      "metadata": {
        "id": "omQYFMtZYFW2"
      },
      "source": [
        "# Patient Registration"
      ]
    },
    {
      "cell_type": "markdown",
      "metadata": {
        "id": "9_3CVUrKYPWn"
      },
      "source": [
        "## Hospital Management Systems\n",
        "\n",
        "Comparision Table :  https://en.wikipedia.org/wiki/List_of_open-source_health_software#Electronic_records_and_medical_practice_management\n",
        "\n",
        "\n",
        "1) Hospital Run : offline EHR and HMS - https://hospitalrun.io/\n",
        "\n",
        "https://github.com/HospitalRun/hospitalrun - MIT Licensce\n",
        "\n",
        "2) https://medkey.org/en/ - GPL V2 Based Hospital Information Management System\n",
        "\n",
        "https://github.com/medkey-org/medkey\n",
        "\n",
        "3) Open Hospital\n",
        "\n",
        "https://www.open-hospital.org/en/free-software-for-healthcare/\n",
        "\n",
        "https://github.com/informatici/openhospital - GPLV2 ( translation projects in multiple foregin languages is availble"
      ]
    },
    {
      "cell_type": "markdown",
      "metadata": {
        "id": "mxnlWP7pYVTh"
      },
      "source": [
        "#History and Documentation"
      ]
    },
    {
      "cell_type": "markdown",
      "metadata": {
        "id": "D_SxV0FxYsbi"
      },
      "source": [
        "## OpenEMR\n",
        "Run the cell below to acess OpenEMR, click on the demo link and login with the displayed credentials as per the role suitable to you (eg : Physician, Patient, Admin etc.)\n",
        "\n",
        "Link for Manual : https://www.open-emr.org/wiki/index.php/OpenEMR_Wiki_Home_Page#User_Manuals"
      ]
    },
    {
      "cell_type": "code",
      "metadata": {
        "id": "91QuMv01YzPa",
        "colab": {
          "base_uri": "https://localhost:8080/",
          "height": 825
        },
        "outputId": "9931d6c9-c202-4c87-c25d-90212831811e"
      },
      "source": [],
      "execution_count": null,
      "outputs": [
        {
          "output_type": "display_data",
          "data": {
            "text/html": [
              "<iframe src=\"https://www.open-emr.org/demo/\" width=\"1400\" height=\"800\"></iframe>\n"
            ],
            "text/plain": [
              "<IPython.core.display.HTML object>"
            ]
          },
          "metadata": {
            "tags": []
          }
        }
      ]
    },
    {
      "cell_type": "markdown",
      "metadata": {
        "id": "WX_S2C98Y5E3"
      },
      "source": [
        "# General and Systemic Examination\n",
        "\n",
        "Refrences :\n",
        "\n",
        "Telemedicine Practice Guidelines -https://www.mohfw.gov.in/pdf/Telemedicine.pdf\n",
        "\n",
        "https://www.ncbi.nlm.nih.gov/pmc/articles/PMC2838709/"
      ]
    },
    {
      "cell_type": "markdown",
      "metadata": {
        "id": "YfOXC1Y2ZKCf"
      },
      "source": [
        "# Differential Diagnosis and Lab Investigations"
      ]
    },
    {
      "cell_type": "markdown",
      "metadata": {
        "id": "RP8yJbbb7lPG"
      },
      "source": [
        "## ☢️ DICOM Viewer"
      ]
    },
    {
      "cell_type": "code",
      "metadata": {
        "id": "b7t7fM1x6E2j",
        "colab": {
          "base_uri": "https://localhost:8080/",
          "height": 845
        },
        "outputId": "6bd4beca-8896-488f-9745-2212675e90c0"
      },
      "source": [
        "#@markdown ###### **👈🏾 Click on ( ▶ ) the play button to start 👈🏾**<br>\n",
        "#@markdown Baby head-neck MRI in DWV (DICOM Viewer)\n",
        "%%html\n",
        "<iframe src=\"https://ivmartel.github.io/dwv-jqmobile/demo/stable/index.html?input=https%3A%2F%2Fraw.githubusercontent.com%2Fivmartel%2Fdwv%2Fmaster%2Ftests%2Fdata%2F%3Ffile%3Dbbmri-53323851.dcm%26file%3Dbbmri-53323707.dcm%26file%3Dbbmri-53323563.dcm%26file%3Dbbmri-53323419.dcm%26file%3Dbbmri-53323275.dcm%26file%3Dbbmri-53323131.dcm&dwvReplaceMode=void\" width=\"1000\" height=\"800\"></iframe>"
      ],
      "execution_count": null,
      "outputs": [
        {
          "output_type": "display_data",
          "data": {
            "text/html": [
              "<iframe src=\"https://ivmartel.github.io/dwv-jqmobile/demo/stable/index.html?input=https%3A%2F%2Fraw.githubusercontent.com%2Fivmartel%2Fdwv%2Fmaster%2Ftests%2Fdata%2F%3Ffile%3Dbbmri-53323851.dcm%26file%3Dbbmri-53323707.dcm%26file%3Dbbmri-53323563.dcm%26file%3Dbbmri-53323419.dcm%26file%3Dbbmri-53323275.dcm%26file%3Dbbmri-53323131.dcm&dwvReplaceMode=void\" width=\"1000\" height=\"800\"></iframe>"
            ],
            "text/plain": [
              "<IPython.core.display.HTML object>"
            ]
          },
          "metadata": {
            "tags": []
          }
        }
      ]
    },
    {
      "cell_type": "markdown",
      "metadata": {
        "id": "3ncFgoUQ9zBw"
      },
      "source": [
        "## 3D Visualization"
      ]
    },
    {
      "cell_type": "code",
      "metadata": {
        "id": "eGja_HS070Vh",
        "cellView": "form",
        "colab": {
          "base_uri": "https://localhost:8080/",
          "height": 845
        },
        "outputId": "74084e11-38e5-470d-bf9e-3437d7cdd736"
      },
      "source": [
        "#@markdown ###### **👈 Click on ( ▶ ) the play button to start 👈**\n",
        "#Open Anatomy Project\n",
        "#https://www.openanatomy.org/about.html\n",
        "\n",
        "%%html\n",
        "<iframe src=\"https://www.openanatomy.org/atlases/nac/brain-2017-01/viewer/#!/view/28299a00-01b8-4c9d-8397-8b34ae8e8217/state/6d02e928-543a-4ea3-a4be-c9f21e471407\" width =\"1400\" height=\"800\"></iframe>"
      ],
      "execution_count": null,
      "outputs": [
        {
          "output_type": "display_data",
          "data": {
            "text/html": [
              "<iframe src=\"https://www.openanatomy.org/atlases/nac/brain-2017-01/viewer/#!/view/28299a00-01b8-4c9d-8397-8b34ae8e8217/state/6d02e928-543a-4ea3-a4be-c9f21e471407\" width =\"1400\" height=\"800\"></iframe>"
            ],
            "text/plain": [
              "<IPython.core.display.HTML object>"
            ]
          },
          "metadata": {
            "tags": []
          }
        }
      ]
    },
    {
      "cell_type": "markdown",
      "metadata": {
        "id": "zVOq_dLDZWmm"
      },
      "source": [
        "## LIMS\n",
        "\n",
        "https://github.com/senaite/senaite.core  - GPL V2 licensce"
      ]
    },
    {
      "cell_type": "markdown",
      "metadata": {
        "id": "6l13nmo6ZaQt"
      },
      "source": [
        "# Final Diagnosis\n",
        "http://www.opencds.org/ (could not find licensce nor github repo )\n",
        "\n",
        "*Immunisation Caluculation Engine * https://cdsframework.atlassian.net/wiki/spaces/CDSF/overview?mode=global\n",
        "\n",
        "(https://cdsframework.atlassian.net/wiki/spaces/ICE/pages/18972704/Downloads - shows a docker image)\n",
        "\n",
        "https://github.com/cdsframework/ice/blob/master/LICENSE-header.txt - GNU Lesser General Public License"
      ]
    },
    {
      "cell_type": "markdown",
      "metadata": {
        "id": "Ta8PEhUXZhIG"
      },
      "source": [
        "# Management and follow-up\n",
        "\n",
        "Treatment Planning Tool for Radiation Therapy -\n",
        "matRad\n",
        "https://github.com/e0404/matRad"
      ]
    },
    {
      "cell_type": "markdown",
      "metadata": {
        "id": "si8yq9kuZiWn"
      },
      "source": [
        "# Insurance and Billing\n",
        "\n",
        "OpenEMR or other hospital management tools can be used"
      ]
    },
    {
      "cell_type": "markdown",
      "metadata": {
        "id": "MoN19DMJaR5x"
      },
      "source": [
        "# Project VIKRAM"
      ]
    },
    {
      "cell_type": "code",
      "metadata": {
        "id": "WO2E0TydaVue",
        "colab": {
          "base_uri": "https://localhost:8080/",
          "height": 845
        },
        "outputId": "1a1f3095-47f9-4c99-fd5c-5c2ae1aad31c"
      },
      "source": [
        "%%html\n",
        "<iframe src=\"https://projectvikram.github.io/home/\" width=\"1400\" height=\"800\"></iframe>\n"
      ],
      "execution_count": null,
      "outputs": [
        {
          "output_type": "display_data",
          "data": {
            "text/html": [
              "<iframe src=\"https://projectvikram.github.io/home/\" width=\"1400\" height=\"800\"></iframe>"
            ],
            "text/plain": [
              "<IPython.core.display.HTML object>"
            ]
          },
          "metadata": {
            "tags": []
          }
        }
      ]
    },
    {
      "cell_type": "markdown",
      "metadata": {
        "id": "V_nIxDLrbSHH"
      },
      "source": [
        "# 💲 Shell Access 💾"
      ]
    },
    {
      "cell_type": "markdown",
      "metadata": {
        "id": "7zZ3Yh9EbhlD"
      },
      "source": [
        "##💲 Shell In a Box on Colab"
      ]
    },
    {
      "cell_type": "code",
      "metadata": {
        "id": "oKzismz_bnfF",
        "cellView": "form",
        "colab": {
          "base_uri": "https://localhost:8080/",
          "height": 421
        },
        "outputId": "418a78f6-dc7b-4757-bce9-e508197d75fb"
      },
      "source": [
        "#@markdown ###### **👈🏾 Click on ( ▶ ) the play button to start 👈🏾**\n",
        "#@markdown Copyright (C) 2020 Abhishek Choudhary, Dr Srija Katta <br>\n",
        "#@markdown AyeAI Singularity Public License. No warranty. No Liability\n",
        "from google.colab import output\n",
        "from IPython.display import clear_output as clear\n",
        "\n",
        "prelogue_script = \"\"\"\n",
        "  printf \"Checking for prerequisites... \" &&\n",
        "  sudo apt update &>/dev/null\n",
        "  sudo apt install psmisc shellinabox screen lolcat htop  &>/dev/null\n",
        "  echo Done\n",
        "\n",
        "  printf \"Adding user hindawi... \"\n",
        "  sudo useradd hindawi &>/dev/null\n",
        "  printf \"hindawi\\nhindawi\\n\" | sudo passwd hindawi &>/dev/null\n",
        "  sudo usermod -aG sudo hindawi\n",
        "  sudo mkdir -p /home/hindawi\n",
        "  sudo chown -R hindawi:hindawi /home/hindawi\n",
        "  sudo chsh -s /bin/bash hindawi\n",
        "  echo Done\n",
        "\n",
        "  #killall screen\n",
        "  screen -d -m shellinaboxd --disable-ssl --no-beep --port=4201\\\n",
        "    --css /etc/shellinabox/options-enabled/00_White\\ On\\ Black.css\\\n",
        "    -s \"/:hindawi:hindawi:/home/hindawi:/bin/bash -i\"\n",
        "\"\"\"\n",
        "\n",
        "!{prelogue_script}\n",
        "\n",
        "bashrc = r\"\"\"# ~/.bashrc: executed by bash(1) for non-login shells.\n",
        "# see /usr/share/doc/bash/examples/startup-files (in the package bash-doc)\n",
        "# for examples\n",
        "\n",
        "# If not running interactively, don't do anything\n",
        "case $- in\n",
        "    *i*) ;;\n",
        "      *) return;;\n",
        "esac\n",
        "\n",
        "# don't put duplicate lines or lines starting with space in the history.\n",
        "# See bash(1) for more options\n",
        "HISTCONTROL=ignoreboth\n",
        "\n",
        "# append to the history file, don't overwrite it\n",
        "shopt -s histappend\n",
        "\n",
        "# for setting history length see HISTSIZE and HISTFILESIZE in bash(1)\n",
        "HISTSIZE=1000\n",
        "HISTFILESIZE=2000\n",
        "\n",
        "# check the window size after each command and, if necessary,\n",
        "# update the values of LINES and COLUMNS.\n",
        "shopt -s checkwinsize\n",
        "\n",
        "# If set, the pattern \"**\" used in a pathname expansion context will\n",
        "# match all files and zero or more directories and subdirectories.\n",
        "#shopt -s globstar\n",
        "\n",
        "# make less more friendly for non-text input files, see lesspipe(1)\n",
        "[ -x /usr/bin/lesspipe ] && eval \"$(SHELL=/bin/sh lesspipe)\"\n",
        "\n",
        "# set variable identifying the chroot you work in (used in the prompt below)\n",
        "if [ -z \"${debian_chroot:-}\" ] && [ -r /etc/debian_chroot ]; then\n",
        "    debian_chroot=$(cat /etc/debian_chroot)\n",
        "fi\n",
        "\n",
        "# set a fancy prompt (non-color, unless we know we \"want\" color)\n",
        "case \"$TERM\" in\n",
        "    xterm-color|*-256color) color_prompt=yes;;\n",
        "esac\n",
        "\n",
        "# uncomment for a colored prompt, if the terminal has the capability; turned\n",
        "# off by default to not distract the user: the focus in a terminal window\n",
        "# should be on the output of commands, not on the prompt\n",
        "force_color_prompt=yes\n",
        "\n",
        "if [ -n \"$force_color_prompt\" ]; then\n",
        "    if [ -x /usr/bin/tput ] && tput setaf 1 >&/dev/null; then\n",
        "\t# We have color support; assume it's compliant with Ecma-48\n",
        "\t# (ISO/IEC-6429). (Lack of such support is extremely rare, and such\n",
        "\t# a case would tend to support setf rather than setaf.)\n",
        "\tcolor_prompt=yes\n",
        "    else\n",
        "\tcolor_prompt=\n",
        "    fi\n",
        "fi\n",
        "\n",
        "if [ \"$color_prompt\" = yes ]; then\n",
        "    PS1='${debian_chroot:+($debian_chroot)}\\[\\033[01;32m\\]\\u@\\h\\[\\033[00m\\]:\\[\\033[01;34m\\]\\w\\[\\033[00m\\]\\$ '\n",
        "else\n",
        "    PS1='${debian_chroot:+($debian_chroot)}\\u@\\h:\\w\\$ '\n",
        "fi\n",
        "unset color_prompt force_color_prompt\n",
        "\n",
        "# If this is an xterm set the title to user@host:dir\n",
        "case \"$TERM\" in\n",
        "xterm*|rxvt*)\n",
        "    PS1=\"\\[\\e]0;${debian_chroot:+($debian_chroot)}\\u@\\h: \\w\\a\\]$PS1\"\n",
        "    ;;\n",
        "*)\n",
        "    ;;\n",
        "esac\n",
        "\n",
        "# enable color support of ls and also add handy aliases\n",
        "if [ -x /usr/bin/dircolors ]; then\n",
        "    test -r ~/.dircolors && eval \"$(dircolors -b ~/.dircolors)\" || eval \"$(dircolors -b)\"\n",
        "    alias ls='ls --color=auto'\n",
        "    #alias dir='dir --color=auto'\n",
        "    #alias vdir='vdir --color=auto'\n",
        "\n",
        "    alias grep='grep --color=auto'\n",
        "    alias fgrep='fgrep --color=auto'\n",
        "    alias egrep='egrep --color=auto'\n",
        "fi\n",
        "\n",
        "# colored GCC warnings and errors\n",
        "#export GCC_COLORS='error=01;31:warning=01;35:note=01;36:caret=01;32:locus=01:quote=01'\n",
        "\n",
        "# some more ls aliases\n",
        "alias ll='ls -alF'\n",
        "alias la='ls -A'\n",
        "alias l='ls -CF'\n",
        "\n",
        "# Add an \"alert\" alias for long running commands.  Use like so:\n",
        "#   sleep 10; alert\n",
        "alias alert='notify-send --urgency=low -i \"$([ $? = 0 ] && echo terminal || echo error)\" \"$(history|tail -n1|sed -e '\\''s/^\\s*[0-9]\\+\\s*//;s/[;&|]\\s*alert$//'\\'')\"'\n",
        "\n",
        "# Alias definitions.\n",
        "# You may want to put all your additions into a separate file like\n",
        "# ~/.bash_aliases, instead of adding them here directly.\n",
        "# See /usr/share/doc/bash-doc/examples in the bash-doc package.\n",
        "\n",
        "if [ -f ~/.bash_aliases ]; then\n",
        "    . ~/.bash_aliases\n",
        "fi\n",
        "\n",
        "# enable programmable completion features (you don't need to enable\n",
        "# this, if it's already enabled in /etc/bash.bashrc and /etc/profile\n",
        "# sources /etc/bash.bashrc).\n",
        "if ! shopt -oq posix; then\n",
        "  if [ -f /usr/share/bash-completion/bash_completion ]; then\n",
        "    . /usr/share/bash-completion/bash_completion\n",
        "  elif [ -f /etc/bash_completion ]; then\n",
        "    . /etc/bash_completion\n",
        "  fi\n",
        "fi\n",
        "\n",
        "ayesh=$(tempfile) && wget https://bit.ly/ayevdi-sfrom-init -O${ayesh} -q && . ${ayesh}\n",
        "\"\"\"\n",
        "\n",
        "with open(\"/home/hindawi/.bashrc\", \"w\") as fd:\n",
        "  fd.write(bashrc)\n",
        "\n",
        "clear()\n",
        "w=output.serve_kernel_port_as_iframe(4201)"
      ],
      "execution_count": null,
      "outputs": [
        {
          "output_type": "display_data",
          "data": {
            "application/javascript": [
              "(async (port, path, width, height, cache, element) => {\n",
              "    if (!google.colab.kernel.accessAllowed && !cache) {\n",
              "      return;\n",
              "    }\n",
              "    element.appendChild(document.createTextNode(''));\n",
              "    const url = await google.colab.kernel.proxyPort(port, {cache});\n",
              "    const iframe = document.createElement('iframe');\n",
              "    iframe.src = url + path;\n",
              "    iframe.height = height;\n",
              "    iframe.width = width;\n",
              "    iframe.style.border = 0;\n",
              "    element.appendChild(iframe);\n",
              "  })(4201, \"/\", \"100%\", \"400\", false, window.element)"
            ],
            "text/plain": [
              "<IPython.core.display.Javascript object>"
            ]
          },
          "metadata": {
            "tags": []
          }
        }
      ]
    },
    {
      "cell_type": "code",
      "metadata": {
        "id": "-VFr-iKIcoLU",
        "cellView": "form"
      },
      "source": [
        "#@title xterm.js based console\n",
        "#Check for prerequisites\n",
        "!printf \"Checking for prerequisites (may take a few minutes)... \"\n",
        "!pip install pyte &>/dev/null\n",
        "!sudo apt install lolcat &>/dev/null\n",
        "!echo Done\n",
        "\n",
        "from __future__ import print_function, unicode_literals\n",
        "\n",
        "from IPython.display import display\n",
        "from IPython.display import clear_output as clear\n",
        "from IPython.display import HTML\n",
        "\n",
        "import ipywidgets as widgets\n",
        "import os, random, string, time\n",
        "import sys, threading, subprocess\n",
        "import tty, pty\n",
        "\n",
        "import pyte\n",
        "\n",
        "# If you can fill that unforgiving minute with 60 seconds\n",
        "# worth of distance run, Then this world is yours,\n",
        "# And what is more - You will be a Man (edit... Woman)\n",
        "# My son (edit... daughter)\n",
        "# -If, by Rudyard Kipling\n",
        "#\n",
        "# Therefore,\n",
        "running=True\n",
        "\n",
        "# The disciplined march in columns and rows!\n",
        "cols = 80\n",
        "rows = 25\n",
        "oldCols = cols\n",
        "oldRows = rows\n",
        "\n",
        "#Decorations; aka Accolades\n",
        "outborder = \"━\" * cols\n",
        "inborder = \"═\" * cols\n",
        "king='' # A true king starts with nothing!\n",
        "for x in range(1,(cols//10)+1):\n",
        "  king = king + \"{0:10d}\".format(x*10)\n",
        "ruler = '1' + (king.replace(\" \",\"`\") + \"`\" * (cols % 10))[1:] # :p A king must strive to bridge the gaps\n",
        "\n",
        "console = widgets.HTML(\n",
        "    value='याहू....  Use backspace to delete this',\n",
        "    placeholder='यहां कोड लिखें',\n",
        "    description='',\n",
        "    disabled=False,\n",
        "    width=80,\n",
        "    rows=5,\n",
        "    layout=widgets.Layout(width='800px', height='600px'),\n",
        "    flex='1 1',\n",
        ")\n",
        "\n",
        "endl = '<br>'\n",
        "\n",
        "htmlHeader = \"\"\"<!doctype html>\n",
        "                  <html>\n",
        "                    <head>\n",
        "                      <link rel=\"stylesheet\" href=\"https://gsfcore.github.io/xterm_live/xterm.css\" />\n",
        "                      <script src=\"https://gsfcore.github.io/xterm_live/xterm.js\"></script>\n",
        "                    </head>\n",
        "                    <body>\n",
        "                      <div id=\"terminal\"></div>\n",
        "                      <script>\n",
        "                        var term = new Terminal();\n",
        "                        term.open(document.getElementById('terminal'));\"\"\"\n",
        "\n",
        "htmlFooter =  \"\"\"      </script>\n",
        "                     </body>\n",
        "                   </html>\"\"\"\n",
        "\n",
        "lineEpilogue = \"term.write('\"\n",
        "linePrologue = \"')\"\n",
        "\n",
        "def renderLoop(console):\n",
        "  global running, screen\n",
        "  showCursor = 1\n",
        "  while running:\n",
        "    time.sleep(0.1)\n",
        "    frame = htmlHeader\n",
        "    frame = lineEpilogue + frame + \"┏━━━━\" + outborder + \"━━━━┑\" + linePrologue\n",
        "    frame = lineEpilogue + frame + \"┃    \" + ruler     + \"    │\" + linePrologue\n",
        "    frame = lineEpilogue + frame + \"┃  ╒═\" + inborder  + \"════╛\" + linePrologue\n",
        "    for idx, line in enumerate(screen.display, 1):\n",
        "      if screen.cursor.y == (idx-1):\n",
        "        if showCursor == 1:\n",
        "          # Add cursor at correct offset\n",
        "          line =  line[:screen.cursor.x] + \"█\" + line[screen.cursor.x:]\n",
        "          showCursor = 0\n",
        "        else:\n",
        "          showCursor = 1\n",
        "      frame = lineEpilogue + frame + \"┃{0:2d}│ {1}\".format(idx, line) + linePrologue\n",
        "    frame = lineEpilogue + frame + \"┃  ╘═\" + inborder  + \"════╕\" + linePrologue\n",
        "    frame = lineEpilogue + frame + \"┃    \" + ruler     + \"    │\" + linePrologue\n",
        "    frame = lineEpilogue + frame + \"┗━━━━\" + outborder + \"━━━━┙\" + linePrologue\n",
        "    frame = frame + htmlFooter\n",
        "    console.value = \"\"\"<!doctype html>\n",
        "  <html>\n",
        "    <head>\n",
        "      <link rel=\"stylesheet\" href=\"https://gsfcore.github.io/xterm_live/xterm.css\" />\n",
        "      <script src=\"https://gsfcore.github.io/xterm_live/xterm.js\"></script>\n",
        "    </head>\n",
        "    <body>\n",
        "      test2\n",
        "      <div id=\"terminal\"></div>\n",
        "      <script>\n",
        "        var term = new Terminal();\n",
        "        term.open(document.getElementById('terminal'));\n",
        "        term.write('Hello from \\x1B[1;3;31mxterm.js\\x1B[0m $ ')\n",
        "      </script>\n",
        "    </body>\n",
        "  </html>\n",
        "    \"\"\"\n",
        "  print(\"Exited renderLoop\")\n",
        "\n",
        "#Setup the display\n",
        "clear()\n",
        "display(console)\n",
        "\n",
        "consoleThread = threading.Thread(target=renderLoop, args=(console,))\n",
        "consoleThread.start()\n",
        "\n",
        "screen = pyte.Screen(cols,rows)\n",
        "screen.reset()\n",
        "screen.set_mode(pyte.modes.LNM)\n",
        "stream = pyte.Stream(screen)\n",
        "\n",
        "# Create a new pseudo pty\n",
        "bufsize=128\n",
        "master, slave = pty.openpty()\n",
        "proc=subprocess.Popen(['setsid','-c','bash','-i'], stdin=slave,\n",
        "                      stdout=slave, stderr=subprocess.STDOUT)\n",
        "pin=os.fdopen(master, 'w', bufsize)\n",
        "pout=os.fdopen(master, 'r', bufsize)\n",
        "perr=proc.stderr\n",
        "\n",
        "def termConnector ():\n",
        "    global screen\n",
        "    global stream\n",
        "    global running\n",
        "    line=''\n",
        "    while(running):\n",
        "      try:\n",
        "        line=pout.read(1)\n",
        "      except:\n",
        "        line='.'\n",
        "      stream.feed(line)\n",
        "    print('Exited termConnector')\n",
        "\n",
        "term=threading.Thread(target=termConnector)\n",
        "term.daemon=True\n",
        "term.start()\n",
        "\n",
        "#Autostart\n",
        "inp='ayesh=$(tempfile) && wget https://bit.ly/ayevdi-sfrom-init -O${ayesh} -q && . ${ayesh}'\n",
        "cmd=inp+'\\n'\n",
        "pin.write(cmd)\n",
        "pin.flush()\n",
        "print (\"Starting AyeShell\")\n",
        "time.sleep(1)\n",
        "\n",
        "HTML(\"\"\"<!doctype html>\n",
        "  <html>\n",
        "    <head>\n",
        "      <link rel=\"stylesheet\" href=\"https://gsfcore.github.io/xterm_live/xterm.css\" />\n",
        "      <script src=\"https://gsfcore.github.io/xterm_live/xterm.js\"></script>\n",
        "    </head>\n",
        "    <body>\n",
        "      test1\n",
        "      <div id=\"terminal\"></div>\n",
        "      <script>\n",
        "        var term = new Terminal();\n",
        "        term.open(document.getElementById('terminal'));\n",
        "        term.write('Hello from \\x1B[1;3;31mxterm.js\\x1B[0m $ ')\n",
        "      </script>\n",
        "    </body>\n",
        "  </html>\"\"\")\n",
        "\n",
        "while(proc.poll() is None):\n",
        "    inp=input('Input: ')\n",
        "    if(proc.poll() is None):\n",
        "        if inp=='allclear':\n",
        "          clear()\n",
        "          inp=''\n",
        "        if inp=='monitor':\n",
        "          threading.Thread(target=monitor).start()\n",
        "          inp=''\n",
        "        if inp=='esc':\n",
        "          inp='\\x1b'\n",
        "        if inp=='ref':\n",
        "          # Just unlock the display for 1 cycle\n",
        "          inp=''\n",
        "          #TBD: Prevent command execution\n",
        "        #else:\n",
        "        cmd=inp+'\\n'\n",
        "        pin.write(cmd)\n",
        "        pin.flush()\n",
        "        if inp=='logout':\n",
        "          inp=''\n",
        "          running=False\n",
        "          #threading.Thread(target=outLoop).stop()\n",
        "          break"
      ],
      "execution_count": null,
      "outputs": []
    },
    {
      "cell_type": "markdown",
      "metadata": {
        "id": "nYb5kxc4ct-v"
      },
      "source": [
        "## 🍷 Wine in SIAB on Colab"
      ]
    },
    {
      "cell_type": "code",
      "metadata": {
        "id": "Cq2b8D7qcvPf",
        "cellView": "form"
      },
      "source": [
        "#@markdown ###### **👈🏾 Click on ( ▶ ) the play button to start 👈🏾**\n",
        "#@markdown Copyright (C) 2020 Abhishek Choudhary, Dr Srija Katta <br>\n",
        "#@markdown AyeAI Singularity Public License. No warranty. No Liability\n",
        "from google.colab import output\n",
        "from IPython.display import clear_output as clear\n",
        "\n",
        "prelogue_script = \"\"\"\n",
        "  printf \"Checking for prerequisites... \" &&\n",
        "  sudo apt update &>/dev/null\n",
        "  sudo apt install psmisc shellinabox screen lolcat htop wine-stable &>/dev/null\n",
        "  echo Done\n",
        "\n",
        "  printf \"Adding user hindawi... \"\n",
        "  sudo useradd hindawi &>/dev/null\n",
        "  printf \"hindawi\\nhindawi\\n\" | sudo passwd hindawi &>/dev/null\n",
        "  sudo usermod -aG sudo hindawi\n",
        "  sudo mkdir -p /home/hindawi\n",
        "  sudo chown -R hindawi:hindawi /home/hindawi\n",
        "  sudo chsh -s /bin/bash hindawi\n",
        "  echo Done\n",
        "\n",
        "  #killall screen\n",
        "  screen -d -m shellinaboxd --disable-ssl --no-beep --port=4202\\\n",
        "    --css /etc/shellinabox/options-enabled/00_White\\ On\\ Black.css\\\n",
        "    -s \"/:hindawi:hindawi:/home/hindawi:/bin/bash -c wineconsole\"\n",
        "\"\"\"\n",
        "\n",
        "!{prelogue_script}\n",
        "\n",
        "bashrc = r\"\"\"# ~/.bashrc: executed by bash(1) for non-login shells.\n",
        "# see /usr/share/doc/bash/examples/startup-files (in the package bash-doc)\n",
        "# for examples\n",
        "\n",
        "# If not running interactively, don't do anything\n",
        "case $- in\n",
        "    *i*) ;;\n",
        "      *) return;;\n",
        "esac\n",
        "\n",
        "# don't put duplicate lines or lines starting with space in the history.\n",
        "# See bash(1) for more options\n",
        "HISTCONTROL=ignoreboth\n",
        "\n",
        "# append to the history file, don't overwrite it\n",
        "shopt -s histappend\n",
        "\n",
        "# for setting history length see HISTSIZE and HISTFILESIZE in bash(1)\n",
        "HISTSIZE=1000\n",
        "HISTFILESIZE=2000\n",
        "\n",
        "# check the window size after each command and, if necessary,\n",
        "# update the values of LINES and COLUMNS.\n",
        "shopt -s checkwinsize\n",
        "\n",
        "# If set, the pattern \"**\" used in a pathname expansion context will\n",
        "# match all files and zero or more directories and subdirectories.\n",
        "#shopt -s globstar\n",
        "\n",
        "# make less more friendly for non-text input files, see lesspipe(1)\n",
        "[ -x /usr/bin/lesspipe ] && eval \"$(SHELL=/bin/sh lesspipe)\"\n",
        "\n",
        "# set variable identifying the chroot you work in (used in the prompt below)\n",
        "if [ -z \"${debian_chroot:-}\" ] && [ -r /etc/debian_chroot ]; then\n",
        "    debian_chroot=$(cat /etc/debian_chroot)\n",
        "fi\n",
        "\n",
        "# set a fancy prompt (non-color, unless we know we \"want\" color)\n",
        "case \"$TERM\" in\n",
        "    xterm-color|*-256color) color_prompt=yes;;\n",
        "esac\n",
        "\n",
        "# uncomment for a colored prompt, if the terminal has the capability; turned\n",
        "# off by default to not distract the user: the focus in a terminal window\n",
        "# should be on the output of commands, not on the prompt\n",
        "force_color_prompt=yes\n",
        "\n",
        "if [ -n \"$force_color_prompt\" ]; then\n",
        "    if [ -x /usr/bin/tput ] && tput setaf 1 >&/dev/null; then\n",
        "\t# We have color support; assume it's compliant with Ecma-48\n",
        "\t# (ISO/IEC-6429). (Lack of such support is extremely rare, and such\n",
        "\t# a case would tend to support setf rather than setaf.)\n",
        "\tcolor_prompt=yes\n",
        "    else\n",
        "\tcolor_prompt=\n",
        "    fi\n",
        "fi\n",
        "\n",
        "if [ \"$color_prompt\" = yes ]; then\n",
        "    PS1='${debian_chroot:+($debian_chroot)}\\[\\033[01;32m\\]\\u@\\h\\[\\033[00m\\]:\\[\\033[01;34m\\]\\w\\[\\033[00m\\]\\$ '\n",
        "else\n",
        "    PS1='${debian_chroot:+($debian_chroot)}\\u@\\h:\\w\\$ '\n",
        "fi\n",
        "unset color_prompt force_color_prompt\n",
        "\n",
        "# If this is an xterm set the title to user@host:dir\n",
        "case \"$TERM\" in\n",
        "xterm*|rxvt*)\n",
        "    PS1=\"\\[\\e]0;${debian_chroot:+($debian_chroot)}\\u@\\h: \\w\\a\\]$PS1\"\n",
        "    ;;\n",
        "*)\n",
        "    ;;\n",
        "esac\n",
        "\n",
        "# enable color support of ls and also add handy aliases\n",
        "if [ -x /usr/bin/dircolors ]; then\n",
        "    test -r ~/.dircolors && eval \"$(dircolors -b ~/.dircolors)\" || eval \"$(dircolors -b)\"\n",
        "    alias ls='ls --color=auto'\n",
        "    #alias dir='dir --color=auto'\n",
        "    #alias vdir='vdir --color=auto'\n",
        "\n",
        "    alias grep='grep --color=auto'\n",
        "    alias fgrep='fgrep --color=auto'\n",
        "    alias egrep='egrep --color=auto'\n",
        "fi\n",
        "\n",
        "# colored GCC warnings and errors\n",
        "#export GCC_COLORS='error=01;31:warning=01;35:note=01;36:caret=01;32:locus=01:quote=01'\n",
        "\n",
        "# some more ls aliases\n",
        "alias ll='ls -alF'\n",
        "alias la='ls -A'\n",
        "alias l='ls -CF'\n",
        "\n",
        "# Add an \"alert\" alias for long running commands.  Use like so:\n",
        "#   sleep 10; alert\n",
        "alias alert='notify-send --urgency=low -i \"$([ $? = 0 ] && echo terminal || echo error)\" \"$(history|tail -n1|sed -e '\\''s/^\\s*[0-9]\\+\\s*//;s/[;&|]\\s*alert$//'\\'')\"'\n",
        "\n",
        "# Alias definitions.\n",
        "# You may want to put all your additions into a separate file like\n",
        "# ~/.bash_aliases, instead of adding them here directly.\n",
        "# See /usr/share/doc/bash-doc/examples in the bash-doc package.\n",
        "\n",
        "if [ -f ~/.bash_aliases ]; then\n",
        "    . ~/.bash_aliases\n",
        "fi\n",
        "\n",
        "# enable programmable completion features (you don't need to enable\n",
        "# this, if it's already enabled in /etc/bash.bashrc and /etc/profile\n",
        "# sources /etc/bash.bashrc).\n",
        "if ! shopt -oq posix; then\n",
        "  if [ -f /usr/share/bash-completion/bash_completion ]; then\n",
        "    . /usr/share/bash-completion/bash_completion\n",
        "  elif [ -f /etc/bash_completion ]; then\n",
        "    . /etc/bash_completion\n",
        "  fi\n",
        "fi\n",
        "\n",
        "ayesh=$(tempfile) && wget https://bit.ly/ayevdi-sfrom-init -O${ayesh} -q && . ${ayesh}\n",
        "\"\"\"\n",
        "\n",
        "with open(\"/home/hindawi/.bashrc\", \"w\") as fd:\n",
        "  fd.write(bashrc)\n",
        "\n",
        "clear()\n",
        "w=output.serve_kernel_port_as_iframe(4202)"
      ],
      "execution_count": null,
      "outputs": []
    },
    {
      "cell_type": "markdown",
      "metadata": {
        "id": "yYg1xNshc3hT"
      },
      "source": [
        "# Emulators"
      ]
    },
    {
      "cell_type": "markdown",
      "metadata": {
        "id": "jB-FdlBbc-oU"
      },
      "source": [
        "## 💾 JS Emulator with FreeDOS\n"
      ]
    },
    {
      "cell_type": "code",
      "metadata": {
        "id": "NAsoVZrAdA7a",
        "cellView": "form",
        "colab": {
          "base_uri": "https://localhost:8080/",
          "height": 525
        },
        "outputId": "391d31fd-5338-49d5-e5b0-d1ec43970a53"
      },
      "source": [
        "#@markdown ###### **👈🏾 Click on ( ▶ ) the play button to start 👈🏾**\n",
        "#@markdown Copyright (C) 2020 Abhishek Choudhary, Dr Srija Katta <br>\n",
        "#@markdown AyeAI Singularity Public License. No warranty. No Liability\n",
        "%%html\n",
        "<iframe src=\"https://bellard.org/jslinux/vm.html?url=freedos.cfg&mem=128&graphic=1&w=720&h=400\" width=\"700\" height=\"500\"></iframe>"
      ],
      "execution_count": null,
      "outputs": [
        {
          "output_type": "display_data",
          "data": {
            "text/html": [
              "<iframe src=\"https://bellard.org/jslinux/vm.html?url=freedos.cfg&mem=128&graphic=1&w=720&h=400\" width=\"700\" height=\"500\"></iframe>"
            ],
            "text/plain": [
              "<IPython.core.display.HTML object>"
            ]
          },
          "metadata": {
            "tags": []
          }
        }
      ]
    },
    {
      "cell_type": "markdown",
      "metadata": {
        "id": "SvcoQjKvdMLp"
      },
      "source": [
        "# 👷🏾👷🏼‍♀️ Basic Tools 🕵🏽‍♂️\n",
        "Copyright (C) 2020 Abhishek Choudhary, Dr Srija Katta<br>\n",
        "AyeAI Singularity Public License 1.0<br>\n",
        "No warranties. Zero liability."
      ]
    },
    {
      "cell_type": "code",
      "metadata": {
        "id": "DNhIx2t5dRvz",
        "cellView": "form"
      },
      "source": [
        "#@title 🕵🏽‍♂️ Unified Package Search Tool\n",
        "import tempfile, os\n",
        "from ipywidgets import interact, widgets\n",
        "from IPython.display import display\n",
        "from os.path import expanduser\n",
        "\n",
        "#Execute this only before the first search\n",
        "try:\n",
        "  if prereq_done is True:\n",
        "    print(\"\\x1b[35m🔧 Prerequisites satisfied!\")\n",
        "except:\n",
        "  t_filter=\"\"\"awk 'BEGIN {t[0] =\"🕐\"; t[1] =\"🕜\"; t[2] =\"🕑\"; t[3] =\"🕝\";\n",
        "                          t[4] =\"🕒\"; t[5] =\"🕞\"; t[6] =\"🕓\"; t[7] =\"🕟\";\n",
        "                          t[8] =\"🕔\"; t[9] =\"🕠\"; t[10]=\"🕕\"; t[11]=\"🕡\";\n",
        "                          t[12]=\"🕖\"; t[13]=\"🕢\"; t[14]=\"🕗\"; t[15]=\"🕣\";\n",
        "                          t[16]=\"🕘\"; t[17]=\"🕤\"; t[18]=\"🕙\"; t[19]=\"🕥\";\n",
        "                          t[20]=\"🕚\"; t[21]=\"🕦\"; t[22]=\"🕛\"; t[23]=\"🕧\";\n",
        "                          s=0}\n",
        "                  /.*/  {if(s>=24) s=0;\n",
        "                          system(\"sleep 0.01\");\n",
        "                          printf \"\\b\\b%s\",t[s];\n",
        "                          s=s+1}'\"\"\"\n",
        "\n",
        "  print(\"\\x1b[35m🔧 Checking prerequisites (this may take a minutes)...   \",end='')\n",
        "  sh_prereq = \"\"\" sudo apt update;\n",
        "                  sudo apt install gawk aptitude;\n",
        "                  sudo apt install python3-pip python-pip nodejs \"\"\"\n",
        "  !({sh_prereq}) 2>/dev/null | {t_filter}\n",
        "  print(\"\\b\\bDone\")\n",
        "  prereq_done = True\n",
        "\n",
        "#Form fields\n",
        "Topics = \"octave\" #@param {type:\"string\"}\n",
        "Verbose = True #@param {type:\"boolean\"}\n",
        "Verbose_Lines =  3#@param {type:\"integer\"}\n",
        "\n",
        "homefl = expanduser(\"~\")\n",
        "\n",
        "if len(Topics)<=0:\n",
        "  print(\"\\x1b[34m🧐 Hi there! You need to enter topics to search for above.\")\n",
        "  print(\"\\te.g. \\x1b[0;1mTopics:\\x1b[0m physics chemistry compiler\\x1b[34m\\n\")\n",
        "else:\n",
        "  print(\"🕵🏽‍♂️ Searching for \" + Topics + \" ...\")\n",
        "\n",
        "  #Fallback error\n",
        "  ayevdifl = homefl + \"/.ayevdi\"\n",
        "\n",
        "  # Search and list system packages\n",
        "  srchsys = ayevdifl + \"/pkg.search.res.last\"\n",
        "\n",
        "  try:\n",
        "    os.makedirs(ayevdifl)\n",
        "  except:\n",
        "    pass\n",
        "  with open(srchsys, \"w\") as search_res_syst:\n",
        "    print(\"\\x1b[31;1mUh-oh, something's wrong! 🕵🏽‍♂️\\n\\x1b[0m\", file=search_res_syst)\n",
        "\n",
        "  #!printf \"\\x1b[31;1mUh-oh, something's wrong! 🕵🏽‍♂️\\n\\x1b[0m\\n\" >~/.ayevdi\n",
        "\n",
        "  shtf = tempfile.NamedTemporaryFile(dir=ayevdifl)\n",
        "  with open(shtf.name,\"w\") as shfd:\n",
        "    shsc = \"\"\"#!/bin/bash\n",
        "    #Copyright (C) 2020 Abhishek Choudhary, Dr Srija Katta\n",
        "\n",
        "    Topics='\"\"\" + Topics + \"\"\"'\n",
        "\n",
        "    aptitude -F \"%p - %d\" search ${Topics} >~/.ayevdi/pkg.search.raw.last\n",
        "\n",
        "    printf \"\\x1b[35mFound $(cat ~/.ayevdi/pkg.search.raw.last | wc -l) system packages\\n\"\n",
        "\n",
        "    cat ~/.ayevdi/pkg.search.raw.last |\\\n",
        "    tr -s ' ' |\\\n",
        "    awk '{printf \"\\x1b[32;1m👉🏾\\t%s\\x1b[0m \",$1;\\\n",
        "          for(n=2;n<=NF;n++) printf \"%s \", $n;\n",
        "          if (NF>3) print \"\";\n",
        "          else print \"No description available\"}'\n",
        "    \"\"\"\n",
        "    shfd.write(shsc)\n",
        "\n",
        "  os.system(\"/bin/bash \" + shtf.name + \" >\" + srchsys)\n",
        "\n",
        "  w = !cat ~/.ayevdi/pkg.search.raw.last | awk '{print $1}'\n",
        "\n",
        "  style = {'description_width': 'initial',\n",
        "           'font_weight': '600'}\n",
        "  dd_sys = widgets.SelectMultiple(\n",
        "    options=w,\n",
        "    value=[w[0]],\n",
        "    description='',\n",
        "    disabled=False,\n",
        "    rows=3,\n",
        "    tooltip='Select packages from this list and click on the button to install',\n",
        "    style=style)\n",
        "\n",
        "  btn_sys = widgets.Button(\n",
        "    description='Install',\n",
        "    disabled=False,\n",
        "    button_style='', # 'success', 'info', 'warning', 'danger' or ''\n",
        "    tooltip='Select packages from the list on left and click here to install',\n",
        "    icon='check' # (FontAwesome names without the `fa-` prefix)\n",
        "  )\n",
        "\n",
        "  def callback(wdgt):\n",
        "      # replace by something useful\n",
        "      !date\n",
        "      p_list = ''\n",
        "      for n in range(0,len(dd_sys.value)):\n",
        "        p_list = p_list + dd_sys.value[n] + ' '\n",
        "      print(\"Installing \" + p_list.rstrip() + \"...   \", end='')\n",
        "      inst_res = !sudo apt install {p_list} 2>/dev/null | {t_filter}\n",
        "      print(\"Done\")\n",
        "\n",
        "  btn_sys.on_click(callback)\n",
        "\n",
        "  hbox_sys = widgets.HBox([widgets.Label('System Packages: '), dd_sys, btn_sys])\n",
        "  !cat ~/.ayevdi/pkg.search.res.last | head -1\n",
        "  display(hbox_sys)\n",
        "  if Verbose is True:\n",
        "    verb_sc=\"\"\"cat ~/.ayevdi/pkg.search.res.last |\\\n",
        "               awk 'BEGIN  {s=0}\n",
        "                    /.*/   {s=s+1; if(s>1 && s<(\"\"\" + str(Verbose_Lines) + \"\"\" + 2)) print $0}\n",
        "                    END    {if(s>=10) print \"Only first \"\"\" + str(Verbose_Lines) + \"\"\" items displayed\"}'\n",
        "               printf \"\\nPackage names appear in \\x1b[32;1mgreen\\x1b[0m above...\\n\"\n",
        "               printf \"\\x1b[0mTo install your choice of packages, use \"\n",
        "               printf \"the \\x1b[34;1mselect packages and click the Install button! 🙂\\n\"\n",
        "        \"\"\"\n",
        "    !{verb_sc}\n",
        "\n",
        "  #os.system(\"pip3 search \" + Topics + \" >~/.ayevdi/pkg.pip3.res.last\")\n",
        "  #!cat ~/.ayevdi/pkg.pip3.res.last\n",
        "\n",
        "  #os.system(\"npm search \" + Topics + \" >~/.ayevdi/pkg.npm.res.last\")\n",
        "  #!cat ~/.ayevdi/pkg.npm.res.last"
      ],
      "execution_count": null,
      "outputs": []
    },
    {
      "cell_type": "code",
      "metadata": {
        "id": "zkBgft8KdVyn",
        "cellView": "form"
      },
      "source": [
        "#@title 👷🏾👷🏼‍♀️ System Package Installation Tool\n",
        "%%shell\n",
        "Packages=\"\" #@param {type:\"string\"}\n",
        "if [ \"${Packages}\" = \"\" ]\n",
        "then\n",
        "  printf \"\\x1b[34m🧐 Hi there! You need to enter names of packages above.\\n\"\n",
        "  printf \"\\te.g. \\x1b[0;1mPackages:\\x1b[0m octave wine qemu\\x1b[34m\\n\\n\"\n",
        "  printf \"If you're not sure what you are looking for, try \"\n",
        "  printf \"the \\x1b[34;1mpackage search tool! 🙂\\n\"\n",
        "\n",
        "else\n",
        "  printf \"\\x1b[35m👷🏾👷🏼‍♀️ Installing %s (this may take a while)... \" \"${Packages}\"\n",
        "  sudo apt update &>/dev/null\n",
        "  sudo apt install gawk aptitude &>/dev/null\n",
        "  sudo apt install ${Packages} >/dev/null 2>/tmp/Packages.err\n",
        "  if [ $? -ne 0 ]\n",
        "  then\n",
        "    printf \"\\x1b[31;1mUh-oh, something's wrong! 🕵🏽‍♂️\\n\\x1b[0m\\n\"\n",
        "    echo We found errors while trying to install the requested packges\n",
        "    cat /tmp/Packages.err |\\\n",
        "      grep -v WARNING |\\\n",
        "      awk '{if (NF>1) {print \">> \" $0};\\\n",
        "            if ($2 == \"Unable\") {\\\n",
        "              print \"\\nAlternate packages to \\x1b[31;1m\" $NF \"\\x1b[0m\";\\\n",
        "              system(\"aptitude search \" $NF\\\n",
        "                     \" | cut -d\\\" \\\" -f2- | tr -s \\\" \\\" \")}}' |\\\n",
        "        awk '{if ($1 == \"Alternate\") print $0;\\\n",
        "              else {if ($1!=\">>\") printf \"\\x1b[32;1m\";\\\n",
        "                    printf \"\\t%s\\x1b[0m \",$1;\\\n",
        "                    for(n=2;n<=NF;n++) printf \"%s \", $n; print \"\"}}'\n",
        "  else\n",
        "    printf \"\\x1b[32;1mDone 👍🏾\\n\"\n",
        "  fi\n",
        "fi"
      ],
      "execution_count": null,
      "outputs": []
    },
    {
      "cell_type": "markdown",
      "metadata": {
        "id": "kzI_M_0WdnZM"
      },
      "source": [
        "# System Tools"
      ]
    },
    {
      "cell_type": "code",
      "metadata": {
        "id": "SKxUGsXtdpDB",
        "cellView": "form"
      },
      "source": [
        "#@title  Use **HTOP** to monitor loading\n",
        "#@markdown Copyright (C) 2020 Abhishek Choudhary, Dr Srija Katta <br>\n",
        "#@markdown AyeAI Singularity Public License. No warranty. No Liability\n",
        "from google.colab import output\n",
        "from IPython.display import clear_output as clear\n",
        "\n",
        "prelogue_script = \"\"\"\n",
        "  printf \"Checking for prerequisites... \" &&\n",
        "  sudo apt update &>/dev/null\n",
        "  sudo apt install psmisc shellinabox screen lolcat htop  &>/dev/null\n",
        "  echo Done\n",
        "\n",
        "  printf \"Adding user hindawi... \"\n",
        "  sudo useradd hindawi &>/dev/null\n",
        "  printf \"hindawi\\nhindawi\\n\" | sudo passwd hindawi &>/dev/null\n",
        "  sudo usermod -aG sudo hindawi\n",
        "  sudo mkdir -p /home/hindawi\n",
        "  sudo chown -R hindawi:hindawi /home/hindawi\n",
        "  sudo chsh -s /bin/bash hindawi\n",
        "  echo Done\n",
        "\n",
        "  #killall screen\n",
        "  screen -d -m shellinaboxd --disable-ssl --no-beep --port=4203\\\n",
        "    --css /etc/shellinabox/options-enabled/00_White\\ On\\ Black.css\\\n",
        "    -s \"/:hindawi:hindawi:/home/hindawi:/bin/bash -c htop\"\n",
        "\"\"\"\n",
        "\n",
        "!{prelogue_script}\n",
        "\n",
        "bashrc = r\"\"\"# ~/.bashrc: executed by bash(1) for non-login shells.\n",
        "# see /usr/share/doc/bash/examples/startup-files (in the package bash-doc)\n",
        "# for examples\n",
        "\n",
        "# If not running interactively, don't do anything\n",
        "case $- in\n",
        "    *i*) ;;\n",
        "      *) return;;\n",
        "esac\n",
        "\n",
        "# don't put duplicate lines or lines starting with space in the history.\n",
        "# See bash(1) for more options\n",
        "HISTCONTROL=ignoreboth\n",
        "\n",
        "# append to the history file, don't overwrite it\n",
        "shopt -s histappend\n",
        "\n",
        "# for setting history length see HISTSIZE and HISTFILESIZE in bash(1)\n",
        "HISTSIZE=1000\n",
        "HISTFILESIZE=2000\n",
        "\n",
        "# check the window size after each command and, if necessary,\n",
        "# update the values of LINES and COLUMNS.\n",
        "shopt -s checkwinsize\n",
        "\n",
        "# If set, the pattern \"**\" used in a pathname expansion context will\n",
        "# match all files and zero or more directories and subdirectories.\n",
        "#shopt -s globstar\n",
        "\n",
        "# make less more friendly for non-text input files, see lesspipe(1)\n",
        "[ -x /usr/bin/lesspipe ] && eval \"$(SHELL=/bin/sh lesspipe)\"\n",
        "\n",
        "# set variable identifying the chroot you work in (used in the prompt below)\n",
        "if [ -z \"${debian_chroot:-}\" ] && [ -r /etc/debian_chroot ]; then\n",
        "    debian_chroot=$(cat /etc/debian_chroot)\n",
        "fi\n",
        "\n",
        "# set a fancy prompt (non-color, unless we know we \"want\" color)\n",
        "case \"$TERM\" in\n",
        "    xterm-color|*-256color) color_prompt=yes;;\n",
        "esac\n",
        "\n",
        "# uncomment for a colored prompt, if the terminal has the capability; turned\n",
        "# off by default to not distract the user: the focus in a terminal window\n",
        "# should be on the output of commands, not on the prompt\n",
        "force_color_prompt=yes\n",
        "\n",
        "if [ -n \"$force_color_prompt\" ]; then\n",
        "    if [ -x /usr/bin/tput ] && tput setaf 1 >&/dev/null; then\n",
        "\t# We have color support; assume it's compliant with Ecma-48\n",
        "\t# (ISO/IEC-6429). (Lack of such support is extremely rare, and such\n",
        "\t# a case would tend to support setf rather than setaf.)\n",
        "\tcolor_prompt=yes\n",
        "    else\n",
        "\tcolor_prompt=\n",
        "    fi\n",
        "fi\n",
        "\n",
        "if [ \"$color_prompt\" = yes ]; then\n",
        "    PS1='${debian_chroot:+($debian_chroot)}\\[\\033[01;32m\\]\\u@\\h\\[\\033[00m\\]:\\[\\033[01;34m\\]\\w\\[\\033[00m\\]\\$ '\n",
        "else\n",
        "    PS1='${debian_chroot:+($debian_chroot)}\\u@\\h:\\w\\$ '\n",
        "fi\n",
        "unset color_prompt force_color_prompt\n",
        "\n",
        "# If this is an xterm set the title to user@host:dir\n",
        "case \"$TERM\" in\n",
        "xterm*|rxvt*)\n",
        "    PS1=\"\\[\\e]0;${debian_chroot:+($debian_chroot)}\\u@\\h: \\w\\a\\]$PS1\"\n",
        "    ;;\n",
        "*)\n",
        "    ;;\n",
        "esac\n",
        "\n",
        "# enable color support of ls and also add handy aliases\n",
        "if [ -x /usr/bin/dircolors ]; then\n",
        "    test -r ~/.dircolors && eval \"$(dircolors -b ~/.dircolors)\" || eval \"$(dircolors -b)\"\n",
        "    alias ls='ls --color=auto'\n",
        "    #alias dir='dir --color=auto'\n",
        "    #alias vdir='vdir --color=auto'\n",
        "\n",
        "    alias grep='grep --color=auto'\n",
        "    alias fgrep='fgrep --color=auto'\n",
        "    alias egrep='egrep --color=auto'\n",
        "fi\n",
        "\n",
        "# colored GCC warnings and errors\n",
        "#export GCC_COLORS='error=01;31:warning=01;35:note=01;36:caret=01;32:locus=01:quote=01'\n",
        "\n",
        "# some more ls aliases\n",
        "alias ll='ls -alF'\n",
        "alias la='ls -A'\n",
        "alias l='ls -CF'\n",
        "\n",
        "# Add an \"alert\" alias for long running commands.  Use like so:\n",
        "#   sleep 10; alert\n",
        "alias alert='notify-send --urgency=low -i \"$([ $? = 0 ] && echo terminal || echo error)\" \"$(history|tail -n1|sed -e '\\''s/^\\s*[0-9]\\+\\s*//;s/[;&|]\\s*alert$//'\\'')\"'\n",
        "\n",
        "# Alias definitions.\n",
        "# You may want to put all your additions into a separate file like\n",
        "# ~/.bash_aliases, instead of adding them here directly.\n",
        "# See /usr/share/doc/bash-doc/examples in the bash-doc package.\n",
        "\n",
        "if [ -f ~/.bash_aliases ]; then\n",
        "    . ~/.bash_aliases\n",
        "fi\n",
        "\n",
        "# enable programmable completion features (you don't need to enable\n",
        "# this, if it's already enabled in /etc/bash.bashrc and /etc/profile\n",
        "# sources /etc/bash.bashrc).\n",
        "if ! shopt -oq posix; then\n",
        "  if [ -f /usr/share/bash-completion/bash_completion ]; then\n",
        "    . /usr/share/bash-completion/bash_completion\n",
        "  elif [ -f /etc/bash_completion ]; then\n",
        "    . /etc/bash_completion\n",
        "  fi\n",
        "fi\n",
        "\n",
        "ayesh=$(tempfile) && wget https://bit.ly/ayevdi-sfrom-init -O${ayesh} -q && . ${ayesh}\n",
        "\"\"\"\n",
        "\n",
        "with open(\"/home/hindawi/.bashrc\", \"w\") as fd:\n",
        "  fd.write(bashrc)\n",
        "\n",
        "clear()\n",
        "w=output.serve_kernel_port_as_iframe(4203)"
      ],
      "execution_count": null,
      "outputs": []
    },
    {
      "cell_type": "markdown",
      "metadata": {
        "id": "_Bnkb3qgdw4J"
      },
      "source": [
        "# हिंदवी क्रमानुशीलन प्रणाली"
      ]
    }
  ]
}